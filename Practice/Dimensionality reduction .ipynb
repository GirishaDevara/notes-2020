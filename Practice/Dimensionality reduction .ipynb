{
 "cells": [
  {
   "cell_type": "markdown",
   "metadata": {},
   "source": [
    "# Dimensionality reduction (PCA):\n",
    "\n",
    "    What is Dimensionality reduction?\n",
    "        - is used to reduce the number of input variables by idetifing the best features and worst features.\n",
    "        \n",
    "        - in case of large number of input features it will cause poor performance of our algorithm model.\n",
    "       \n",
    "       \n",
    "#### Principal Componet Analysis(PCA):\n",
    "    1. More Features are fed into a model.\n",
    "    2. "
   ]
  },
  {
   "cell_type": "code",
   "execution_count": null,
   "metadata": {},
   "outputs": [],
   "source": []
  }
 ],
 "metadata": {
  "kernelspec": {
   "display_name": "Python 3",
   "language": "python",
   "name": "python3"
  },
  "language_info": {
   "codemirror_mode": {
    "name": "ipython",
    "version": 3
   },
   "file_extension": ".py",
   "mimetype": "text/x-python",
   "name": "python",
   "nbconvert_exporter": "python",
   "pygments_lexer": "ipython3",
   "version": "3.8.3"
  }
 },
 "nbformat": 4,
 "nbformat_minor": 4
}
